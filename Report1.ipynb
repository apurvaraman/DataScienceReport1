{
 "cells": [
  {
   "cell_type": "code",
   "execution_count": null,
   "metadata": {
    "collapsed": false
   },
   "outputs": [],
   "source": [
    "from __future__ import print_function, division\n",
    "import pandas\n"
   ]
  },
  {
   "cell_type": "markdown",
   "metadata": {},
   "source": [
    "First, load the data into a pandas dataframe. This is the most recent ESS round, round 7. "
   ]
  },
  {
   "cell_type": "code",
   "execution_count": 3,
   "metadata": {
    "collapsed": false
   },
   "outputs": [],
   "source": [
    "my_dataframe = pandas.read_stata('ESS7e02_1.dta',convert_categoricals=False, convert_missing=False)"
   ]
  },
  {
   "cell_type": "code",
   "execution_count": 4,
   "metadata": {
    "collapsed": false
   },
   "outputs": [
    {
     "name": "stdout",
     "output_type": "stream",
     "text": [
      "Index([u'name', u'essround', u'edition', u'proddate', u'idno', u'cntry',\n",
      "       u'tvtot', u'tvpol', u'ppltrst', u'pplfair',\n",
      "       ...\n",
      "       u'inwtm', u'spltadmf', u'supqad1', u'supqad2', u'supqdd', u'supqmm',\n",
      "       u'supqyr', u'dweight', u'pspwght', u'pweight'],\n",
      "      dtype='object', length=601)\n"
     ]
    }
   ],
   "source": [
    "print (my_dataframe.columns)"
   ]
  },
  {
   "cell_type": "markdown",
   "metadata": {},
   "source": [
    "Variables of interest:\n",
    "\n",
    "health: subjective general health\n",
    "\n",
    "happy: How happy are you \n",
    "\n",
    "aesfdrk: Feeling of safety of walking alone in local area after dark\n",
    "\n",
    "almuslv: Allow many or few Muslims to come and live in country\n",
    "\n",
    "blgetmg: belong to minority ethnic group in that country\n",
    "\n",
    "imptrad: Important to follow traditions and customs\n",
    "\n",
    "ipudrst: Important to understand different people\n",
    "\n",
    "impfun: Important to seek fun and things that give pleasure \n",
    "\n",
    "smegbhw: Some races or ethnic groups: born harder working \n",
    "\n",
    "smegbli: Some races or ethnic groups: born less intelligent \n",
    "\n",
    "cntry: Country\n",
    "\n"
   ]
  },
  {
   "cell_type": "code",
   "execution_count": null,
   "metadata": {
    "collapsed": true
   },
   "outputs": [],
   "source": []
  }
 ],
 "metadata": {
  "anaconda-cloud": {},
  "kernelspec": {
   "display_name": "Python [conda root]",
   "language": "python",
   "name": "conda-root-py"
  },
  "language_info": {
   "codemirror_mode": {
    "name": "ipython",
    "version": 2
   },
   "file_extension": ".py",
   "mimetype": "text/x-python",
   "name": "python",
   "nbconvert_exporter": "python",
   "pygments_lexer": "ipython2",
   "version": "2.7.12"
  }
 },
 "nbformat": 4,
 "nbformat_minor": 1
}

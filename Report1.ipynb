{
 "cells": [
  {
   "cell_type": "code",
   "execution_count": 13,
   "metadata": {
    "collapsed": false,
    "scrolled": true
   },
   "outputs": [],
   "source": [
    "from __future__ import print_function, division\n",
    "import pandas\n",
    "import thinkstats2\n",
    "import thinkplot\n",
    "import numpy as np"
   ]
  },
  {
   "cell_type": "markdown",
   "metadata": {},
   "source": [
    "First, load the data into a pandas dataframe. This is the most recent ESS round, round 7. "
   ]
  },
  {
   "cell_type": "code",
   "execution_count": 3,
   "metadata": {
    "collapsed": false
   },
   "outputs": [],
   "source": [
    "ess = pandas.read_stata('ESS7e02_1.dta',convert_categoricals=False, convert_missing=False)"
   ]
  },
  {
   "cell_type": "code",
   "execution_count": 4,
   "metadata": {
    "collapsed": false
   },
   "outputs": [
    {
     "name": "stdout",
     "output_type": "stream",
     "text": [
      "Index([u'name', u'essround', u'edition', u'proddate', u'idno', u'cntry',\n",
      "       u'tvtot', u'tvpol', u'ppltrst', u'pplfair',\n",
      "       ...\n",
      "       u'inwtm', u'spltadmf', u'supqad1', u'supqad2', u'supqdd', u'supqmm',\n",
      "       u'supqyr', u'dweight', u'pspwght', u'pweight'],\n",
      "      dtype='object', length=601)\n"
     ]
    }
   ],
   "source": [
    "print (ess.columns)"
   ]
  },
  {
   "cell_type": "markdown",
   "metadata": {},
   "source": [
    "Variables of interest:\n",
    "http://nesstar.ess.nsd.uib.no/webview/\n",
    "\n",
    "\n",
    "happy: How happy are you \n",
    "\n",
    "Apurva\n",
    "\n",
    "    +2 extra\n",
    "\n",
    "    health: subjective general health\n",
    "\n",
    "    aesfdrk: Feeling of safety of walking alone in local area after dark\n",
    "\n",
    "    almuslv: Allow many or few Muslims to come and live in country\n",
    "\n",
    "    blgetmg: belong to minority ethnic group in that country\n",
    "\n",
    "    imptrad: Important to follow traditions and customs\n",
    "\n",
    "Celina\n",
    "\n",
    "    +2 extra\n",
    "\n",
    "    ipudrst: Important to understand different people\n",
    "\n",
    "    impfun: Important to seek fun and things that give pleasure \n",
    "\n",
    "    smegbhw: Some races or ethnic groups: born harder working \n",
    "\n",
    "    smegbli: Some races or ethnic groups: born less intelligent \n",
    "\n",
    "    cntry: Country\n",
    "\n"
   ]
  },
  {
   "cell_type": "code",
   "execution_count": 5,
   "metadata": {
    "collapsed": false
   },
   "outputs": [
    {
     "name": "stdout",
     "output_type": "stream",
     "text": [
      "0         7.0\n",
      "1         5.0\n",
      "2         8.0\n",
      "3         9.0\n",
      "4        10.0\n",
      "5        10.0\n",
      "6         8.0\n",
      "7         8.0\n",
      "8         4.0\n",
      "9         7.0\n",
      "10        7.0\n",
      "11       10.0\n",
      "12       10.0\n",
      "13        9.0\n",
      "14        7.0\n",
      "15        9.0\n",
      "16        9.0\n",
      "17       10.0\n",
      "18        9.0\n",
      "19       10.0\n",
      "20        9.0\n",
      "21        9.0\n",
      "22        7.0\n",
      "23        5.0\n",
      "24        7.0\n",
      "25        8.0\n",
      "26        9.0\n",
      "27        9.0\n",
      "28        8.0\n",
      "29        8.0\n",
      "         ... \n",
      "40155     9.0\n",
      "40156     5.0\n",
      "40157     8.0\n",
      "40158     7.0\n",
      "40159     3.0\n",
      "40160     6.0\n",
      "40161     8.0\n",
      "40162     8.0\n",
      "40163     9.0\n",
      "40164     8.0\n",
      "40165     5.0\n",
      "40166     8.0\n",
      "40167     9.0\n",
      "40168    10.0\n",
      "40169    10.0\n",
      "40170    10.0\n",
      "40171     7.0\n",
      "40172     7.0\n",
      "40173     9.0\n",
      "40174     6.0\n",
      "40175     8.0\n",
      "40176     9.0\n",
      "40177     8.0\n",
      "40178     9.0\n",
      "40179    10.0\n",
      "40180    10.0\n",
      "40181     8.0\n",
      "40182     9.0\n",
      "40183     8.0\n",
      "40184     8.0\n",
      "Name: happy, dtype: float64\n"
     ]
    }
   ],
   "source": [
    "print (ess.happy)"
   ]
  },
  {
   "cell_type": "code",
   "execution_count": 15,
   "metadata": {
    "collapsed": false
   },
   "outputs": [
    {
     "data": {
      "image/png": "[encoded data removed]",
      "text/plain": [
       "<matplotlib.figure.Figure at 0x7fb4f4509bd0>"
      ]
     },
     "metadata": {},
     "output_type": "display_data"
    }
   ],
   "source": [
    "ess.loc[ess.happy >10] = np.nan\n",
    "hist = thinkstats2.Hist(ess.happy)\n",
    "thinkplot.Hist(hist)\n",
    "thinkplot.Show(xlabel='happy', ylabel='frequency')"
   ]
  },
  {
   "cell_type": "code",
   "execution_count": null,
   "metadata": {
    "collapsed": true
   },
   "outputs": [],
   "source": []
  }
 ],
 "metadata": {
  "anaconda-cloud": {},
  "kernelspec": {
   "display_name": "Python [conda root]",
   "language": "python",
   "name": "conda-root-py"
  },
  "language_info": {
   "codemirror_mode": {
    "name": "ipython",
    "version": 2
   },
   "file_extension": ".py",
   "mimetype": "text/x-python",
   "name": "python",
   "nbconvert_exporter": "python",
   "pygments_lexer": "ipython2",
   "version": "2.7.12"
  }
 },
 "nbformat": 4,
 "nbformat_minor": 1
}
